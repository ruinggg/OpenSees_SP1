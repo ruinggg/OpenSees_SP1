{
 "cells": [
  {
   "cell_type": "code",
   "execution_count": 1,
   "id": "a49a1f83-e87c-4ce6-a104-70da22d6a271",
   "metadata": {},
   "outputs": [
    {
     "data": {
      "text/plain": [
       "2"
      ]
     },
     "execution_count": 1,
     "metadata": {},
     "output_type": "execute_result"
    }
   ],
   "source": [
    "1+1"
   ]
  },
  {
   "cell_type": "code",
   "execution_count": 2,
   "id": "a4836c7e-6c58-4d72-9ad0-71f888eda9a9",
   "metadata": {},
   "outputs": [],
   "source": [
    "import turtle"
   ]
  },
  {
   "cell_type": "code",
   "execution_count": 3,
   "id": "4370b592-4364-4b32-9e29-b4e3f5917f6c",
   "metadata": {},
   "outputs": [],
   "source": [
    "turtle.forward(150)"
   ]
  },
  {
   "cell_type": "code",
   "execution_count": 4,
   "id": "863bac29-a27f-418b-b692-68444113965e",
   "metadata": {},
   "outputs": [],
   "source": [
    "turtle.left(120)"
   ]
  },
  {
   "cell_type": "code",
   "execution_count": 5,
   "id": "dda4ca5d-c7ff-452d-90a6-2daedf7e7336",
   "metadata": {},
   "outputs": [],
   "source": [
    "turtle.forward(150)"
   ]
  },
  {
   "cell_type": "code",
   "execution_count": 6,
   "id": "660553bc-d655-46a5-8a68-73a075ea865e",
   "metadata": {},
   "outputs": [],
   "source": [
    "turtle.left(120)"
   ]
  },
  {
   "cell_type": "code",
   "execution_count": 7,
   "id": "3ca444f6-d963-413d-a8d7-f1bf7ee637f2",
   "metadata": {},
   "outputs": [],
   "source": [
    "turtle.forward(150)"
   ]
  },
  {
   "cell_type": "code",
   "execution_count": 8,
   "id": "71220f0c-4a38-4700-8083-c7160c3db41f",
   "metadata": {},
   "outputs": [],
   "source": [
    "turtle.done()"
   ]
  }
 ],
 "metadata": {
  "kernelspec": {
   "display_name": "Python 3",
   "language": "python",
   "name": "python3"
  },
  "language_info": {
   "codemirror_mode": {
    "name": "ipython",
    "version": 3
   },
   "file_extension": ".py",
   "mimetype": "text/x-python",
   "name": "python",
   "nbconvert_exporter": "python",
   "pygments_lexer": "ipython3",
   "version": "3.8.8"
  }
 },
 "nbformat": 4,
 "nbformat_minor": 5
}
