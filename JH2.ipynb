{
 "cells": [
  {
   "cell_type": "code",
   "execution_count": 1,
   "id": "a4836c7e-6c58-4d72-9ad0-71f888eda9a9",
   "metadata": {},
   "outputs": [],
   "source": [
    "import turtle"
   ]
  },
  {
   "cell_type": "code",
   "execution_count": 2,
   "id": "4370b592-4364-4b32-9e29-b4e3f5917f6c",
   "metadata": {},
   "outputs": [],
   "source": [
    "turtle.hideturtle()"
   ]
  },
  {
   "cell_type": "code",
   "execution_count": 3,
   "id": "7a431d13-5485-4801-94b7-cf5156762b7e",
   "metadata": {},
   "outputs": [],
   "source": [
    "turtle.left(90)"
   ]
  },
  {
   "cell_type": "code",
   "execution_count": 4,
   "id": "863bac29-a27f-418b-b692-68444113965e",
   "metadata": {},
   "outputs": [],
   "source": [
    "turtle.forward(100)"
   ]
  },
  {
   "cell_type": "code",
   "execution_count": 5,
   "id": "8e02d868-5a09-4040-8d49-2e7db57975e6",
   "metadata": {},
   "outputs": [],
   "source": [
    "turtle.right(90)"
   ]
  },
  {
   "cell_type": "code",
   "execution_count": 6,
   "id": "5e53957b-c3cf-4004-be63-3b8cf46d6229",
   "metadata": {},
   "outputs": [],
   "source": [
    "turtle.forward(100)"
   ]
  },
  {
   "cell_type": "code",
   "execution_count": 7,
   "id": "9f1b1c11-b3a6-499b-8f0f-d56d154709e7",
   "metadata": {},
   "outputs": [],
   "source": [
    "turtle.penup()"
   ]
  },
  {
   "cell_type": "code",
   "execution_count": 8,
   "id": "14d6bcff-6979-41e9-a670-023508ca195d",
   "metadata": {},
   "outputs": [],
   "source": [
    "turtle.right(90)"
   ]
  },
  {
   "cell_type": "code",
   "execution_count": 9,
   "id": "b3c434b2-15f3-494f-b35f-d0220a89e37b",
   "metadata": {},
   "outputs": [],
   "source": [
    "turtle.forward(100)"
   ]
  },
  {
   "cell_type": "code",
   "execution_count": 10,
   "id": "22769c7a-1d19-4121-83f7-1a9cc8c8958e",
   "metadata": {},
   "outputs": [],
   "source": [
    "turtle.pendown()"
   ]
  },
  {
   "cell_type": "code",
   "execution_count": 11,
   "id": "4c225b80-ec7f-4f46-850f-18a925d5019d",
   "metadata": {},
   "outputs": [],
   "source": [
    "turtle.right(90)"
   ]
  },
  {
   "cell_type": "code",
   "execution_count": 12,
   "id": "42b208e7-6c6b-40c8-aae3-4cff9e892a47",
   "metadata": {},
   "outputs": [],
   "source": [
    "turtle.forward(100)"
   ]
  },
  {
   "cell_type": "code",
   "execution_count": 13,
   "id": "6c632967-64e4-4fe0-a38a-f1aa0042d181",
   "metadata": {},
   "outputs": [],
   "source": [
    "turtle.left(90)"
   ]
  },
  {
   "cell_type": "code",
   "execution_count": 14,
   "id": "7ac64f80-728a-4d23-9269-1cbb046b25fa",
   "metadata": {},
   "outputs": [],
   "source": [
    "turtle.forward(100)"
   ]
  },
  {
   "cell_type": "code",
   "execution_count": 15,
   "id": "27a533d1-c134-444f-b917-eded940a7205",
   "metadata": {},
   "outputs": [],
   "source": [
    "turtle.left(90)"
   ]
  },
  {
   "cell_type": "code",
   "execution_count": 16,
   "id": "a510d7de-0658-41f0-b3a7-e208d69cbdaf",
   "metadata": {},
   "outputs": [],
   "source": [
    "turtle.forward(100)"
   ]
  },
  {
   "cell_type": "code",
   "execution_count": 17,
   "id": "310415ec-ba1b-409c-b8ab-2130e320c933",
   "metadata": {},
   "outputs": [],
   "source": [
    "turtle.done()"
   ]
  }
 ],
 "metadata": {
  "kernelspec": {
   "display_name": "Python 3",
   "language": "python",
   "name": "python3"
  },
  "language_info": {
   "codemirror_mode": {
    "name": "ipython",
    "version": 3
   },
   "file_extension": ".py",
   "mimetype": "text/x-python",
   "name": "python",
   "nbconvert_exporter": "python",
   "pygments_lexer": "ipython3",
   "version": "3.8.8"
  }
 },
 "nbformat": 4,
 "nbformat_minor": 5
}
